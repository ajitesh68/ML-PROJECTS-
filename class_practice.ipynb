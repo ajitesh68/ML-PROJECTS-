{
  "nbformat": 4,
  "nbformat_minor": 0,
  "metadata": {
    "colab": {
      "provenance": [],
      "authorship_tag": "ABX9TyMSSd3uIourdoc+2hmsJVpN",
      "include_colab_link": true
    },
    "kernelspec": {
      "name": "python3",
      "display_name": "Python 3"
    },
    "language_info": {
      "name": "python"
    }
  },
  "cells": [
    {
      "cell_type": "markdown",
      "metadata": {
        "id": "view-in-github",
        "colab_type": "text"
      },
      "source": [
        "<a href=\"https://colab.research.google.com/github/ajitesh68/ML-PROJECTS-/blob/main/class_practice.ipynb\" target=\"_parent\"><img src=\"https://colab.research.google.com/assets/colab-badge.svg\" alt=\"Open In Colab\"/></a>"
      ]
    },
    {
      "cell_type": "code",
      "execution_count": null,
      "metadata": {
        "id": "XlplP8kY0Idp"
      },
      "outputs": [],
      "source": [
        "!pip install transformers accelerate --quiet\n"
      ]
    },
    {
      "cell_type": "code",
      "source": [
        "# Importing the required model and tokenizer classes for causal language modeling from Hugging Face's Transformers library\n",
        "from transformers import AutoModelForCausalLM, AutoTokenizer\n",
        "\n",
        "# Importing the PyTorch library to handle tensors and model loading to device (CPU or GPU)\n",
        "import torch\n",
        "\n",
        "# Defining the name of the pretrained model to be used.\n",
        "# \"Salesforce/codegen-350M-multi\" is a smaller version of CodeGen model trained on multiple programming languages.\n",
        "model_name = \"Salesforce/codegen-350M-multi\"\n",
        "\n",
        "# Loading the pretrained causal language model using the model name from the Hugging Face Hub.\n",
        "# This model is used to generate or complete code snippets.\n",
        "model = AutoModelForCausalLM.from_pretrained(model_name)\n"
      ],
      "metadata": {
        "colab": {
          "base_uri": "https://localhost:8080/"
        },
        "id": "myNSMuN-0Spc",
        "outputId": "338d5a85-996f-4a58-e80d-e5c0e5916d43"
      },
      "execution_count": 15,
      "outputs": [
        {
          "output_type": "stream",
          "name": "stderr",
          "text": [
            "Some weights of the model checkpoint at Salesforce/codegen-350M-multi were not used when initializing CodeGenForCausalLM: ['transformer.h.0.attn.causal_mask', 'transformer.h.1.attn.causal_mask', 'transformer.h.10.attn.causal_mask', 'transformer.h.11.attn.causal_mask', 'transformer.h.12.attn.causal_mask', 'transformer.h.13.attn.causal_mask', 'transformer.h.14.attn.causal_mask', 'transformer.h.15.attn.causal_mask', 'transformer.h.16.attn.causal_mask', 'transformer.h.17.attn.causal_mask', 'transformer.h.18.attn.causal_mask', 'transformer.h.19.attn.causal_mask', 'transformer.h.2.attn.causal_mask', 'transformer.h.3.attn.causal_mask', 'transformer.h.4.attn.causal_mask', 'transformer.h.5.attn.causal_mask', 'transformer.h.6.attn.causal_mask', 'transformer.h.7.attn.causal_mask', 'transformer.h.8.attn.causal_mask', 'transformer.h.9.attn.causal_mask']\n",
            "- This IS expected if you are initializing CodeGenForCausalLM from the checkpoint of a model trained on another task or with another architecture (e.g. initializing a BertForSequenceClassification model from a BertForPreTraining model).\n",
            "- This IS NOT expected if you are initializing CodeGenForCausalLM from the checkpoint of a model that you expect to be exactly identical (initializing a BertForSequenceClassification model from a BertForSequenceClassification model).\n"
          ]
        }
      ]
    },
    {
      "cell_type": "code",
      "source": [
        "# Load the tokenizer and model using the model name\n",
        "tokenizer = AutoTokenizer.from_pretrained(model_name)\n",
        "model = AutoModelForCausalLM.from_pretrained(model_name)\n",
        "\n",
        "# Define a function to generate code based on user input (prompt)\n",
        "def generate_code(prompt):\n",
        "    # Create an input text by combining a fixed instruction with the user-provided prompt\n",
        "    input_txt = f\"Output Code to {prompt}\\n\"\n",
        "\n",
        "    # Encode the text input into token IDs (numerical format that the model understands)\n",
        "    inputs = tokenizer.encode(input_txt, return_tensors=\"pt\")\n",
        "\n",
        "    # Generate output tokens (the model completes or creates code from the prompt)\n",
        "    # max_length = total output length (including input), temperature = randomness\n",
        "    outputs = model.generate(inputs, max_length=256, temperature=0.7, do_sample=True)\n",
        "\n",
        "    # Decode the token IDs back to human-readable text (i.e., actual code)\n",
        "    code = tokenizer.decode(outputs[0])\n",
        "\n",
        "    return code\n",
        "\n",
        "# Ask the user for a prompt (e.g., \"sort an array in Python\")\n",
        "user_prompt = input(\"Enter the code that you want to generate: \")\n",
        "\n",
        "# Generate the code using the model and function above\n",
        "output_code = generate_code(user_prompt)\n",
        "\n",
        "# Print the final generated code\n",
        "print(\"Generated Code:\")\n",
        "print(output_code)\n"
      ],
      "metadata": {
        "colab": {
          "base_uri": "https://localhost:8080/"
        },
        "id": "biYEQHcg1bum",
        "outputId": "b8a441c9-f8b3-4b18-8b2e-0ea56e4db01c"
      },
      "execution_count": 16,
      "outputs": [
        {
          "output_type": "stream",
          "name": "stderr",
          "text": [
            "Some weights of the model checkpoint at Salesforce/codegen-350M-multi were not used when initializing CodeGenForCausalLM: ['transformer.h.0.attn.causal_mask', 'transformer.h.1.attn.causal_mask', 'transformer.h.10.attn.causal_mask', 'transformer.h.11.attn.causal_mask', 'transformer.h.12.attn.causal_mask', 'transformer.h.13.attn.causal_mask', 'transformer.h.14.attn.causal_mask', 'transformer.h.15.attn.causal_mask', 'transformer.h.16.attn.causal_mask', 'transformer.h.17.attn.causal_mask', 'transformer.h.18.attn.causal_mask', 'transformer.h.19.attn.causal_mask', 'transformer.h.2.attn.causal_mask', 'transformer.h.3.attn.causal_mask', 'transformer.h.4.attn.causal_mask', 'transformer.h.5.attn.causal_mask', 'transformer.h.6.attn.causal_mask', 'transformer.h.7.attn.causal_mask', 'transformer.h.8.attn.causal_mask', 'transformer.h.9.attn.causal_mask']\n",
            "- This IS expected if you are initializing CodeGenForCausalLM from the checkpoint of a model trained on another task or with another architecture (e.g. initializing a BertForSequenceClassification model from a BertForPreTraining model).\n",
            "- This IS NOT expected if you are initializing CodeGenForCausalLM from the checkpoint of a model that you expect to be exactly identical (initializing a BertForSequenceClassification model from a BertForSequenceClassification model).\n"
          ]
        },
        {
          "name": "stdout",
          "output_type": "stream",
          "text": [
            "Enter the code that you want to generate: add two numbers\n"
          ]
        },
        {
          "output_type": "stream",
          "name": "stderr",
          "text": [
            "The attention mask and the pad token id were not set. As a consequence, you may observe unexpected behavior. Please pass your input's `attention_mask` to obtain reliable results.\n",
            "Setting `pad_token_id` to `eos_token_id`:50256 for open-end generation.\n"
          ]
        },
        {
          "output_type": "stream",
          "name": "stdout",
          "text": [
            "Generated Code:\n",
            "Output Code to add two numbers\n",
            "    def add(self, a, b):\n",
            "        '''\n",
            "        Add two numbers and return the result\n",
            "        '''\n",
            "        return a + b\n",
            "\n",
            "    # Add two numbers and return the result\n",
            "    def add2(self, a, b):\n",
            "        '''\n",
            "        Add two numbers and return the result\n",
            "        '''\n",
            "        return a + b + a\n",
            "\n",
            "    # Add two numbers and return the result\n",
            "    def add3(self, a, b, c):\n",
            "        '''\n",
            "        Add three numbers and return the result\n",
            "        '''\n",
            "        return a + b + c\n",
            "\n",
            "    # Add two numbers and return the result\n",
            "    def add4(self, a, b, c, d):\n",
            "        '''\n",
            "        Add four numbers and return the result\n",
            "        '''\n",
            "        return a + b + c + d\n",
            "\n",
            "    # Add two numbers and return the result\n",
            "    def add5(self, a, b, c, d, e):\n",
            "        '''\n",
            "        Add five numbers and return the result\n",
            "        '''\n",
            "        return a + b + c + d + e\n",
            "\n",
            "    # Add two numbers and return the result\n"
          ]
        }
      ]
    }
  ]
}